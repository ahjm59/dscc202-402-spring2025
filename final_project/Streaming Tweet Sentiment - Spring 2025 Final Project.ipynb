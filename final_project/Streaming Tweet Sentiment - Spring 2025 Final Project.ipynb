{
 "cells": [
  {
   "cell_type": "markdown",
   "metadata": {
    "application/vnd.databricks.v1+cell": {
     "cellMetadata": {
      "byteLimit": 2048000,
      "rowLimit": 10000
     },
     "inputWidgets": {},
     "nuid": "fc749083-2211-485c-943f-640e198b2c70",
     "showTitle": false,
     "tableResultSettingsMap": {},
     "title": ""
    }
   },
   "source": [
    "## DSCC202-402 Data Science at Scale Final Project\n",
    "### Tracking Tweet sentiment at scale using a pretrained transformer (classifier)\n",
    "<p>Consider the following illustration of the end to end system that you will be building.  Each student should do their own work.  The project will demonstrate your understanding of Spark Streaming, the medalion data architecture using Delta Lake, Spark Inference at Scale using an MLflow packaged model as well as Exploritory Data Analysis and System Tracking and Monitoring.</p>\n",
    "<br><br>\n",
    "<img src=\"https://data-science-at-scale.s3.amazonaws.com/images/pipeline.drawio.png\">\n",
    "\n",
    "<p>\n",
    "You will be pulling an updated copy of the course GitHub repositiory: <a href=\"https://github.com/lpalum/dscc202-402-spring2025\">The Repo</a>.  \n",
    "\n",
    "Once you have updated your fork of the repository you should see the following template project that is resident in the final_project directory.\n",
    "</p>\n",
    "\n",
    "<img src=\"https://data-science-at-scale.s3.amazonaws.com/images/notebooks.drawio.png\">\n",
    "\n",
    "<p>\n",
    "You can then pull your project into the Databrick Workspace using the <a href=\"https://github.com/apps/databricks\">Databricks App on Github</a> or by cloning the repo to your laptop and then uploading the final_project directory and its contents to your workspace using file imports.  Your choice.\n",
    "\n",
    "<p>\n",
    "Work your way through this notebook which will give you the steps required to submit a complete and compliant project.  The following illustration and associated data dictionary specifies the transformations and data that you are to generate for each step in the medallion pipeline.\n",
    "</p>\n",
    "<br><br>\n",
    "<img src=\"https://data-science-at-scale.s3.amazonaws.com/images/dataframes.drawio.png\">\n",
    "\n",
    "#### Bronze Data - raw ingest\n",
    "- date - string in the source json\n",
    "- user - string in the source json\n",
    "- text - tweet string in the source json\n",
    "- sentiment - the given sentiment of the text as determined by an unknown model that is provided in the source json\n",
    "- source_file - the path of the source json file the this row of data was read from\n",
    "- processing_time - a timestamp of when you read this row from the source json\n",
    "\n",
    "#### Silver Data - Bronze Preprocessing\n",
    "- timestamp - convert date string in the bronze data to a timestamp\n",
    "- mention - every @username mentioned in the text string in the bronze data gets a row in this silver data table.\n",
    "- cleaned_text - the bronze text data with the mentions (@username) removed.\n",
    "- sentiment - the given sentiment that was associated with the text in the bronze table.\n",
    "\n",
    "#### Gold Data - Silver Table Inference\n",
    "- timestamp - the timestamp from the silver data table rows\n",
    "- mention - the mention from the silver data table rows\n",
    "- cleaned_text - the cleaned_text from the silver data table rows\n",
    "- sentiment - the given sentiment from the silver data table rows\n",
    "- predicted_score - score out of 100 from the Hugging Face Sentiment Transformer\n",
    "- predicted_sentiment - string representation of the sentiment\n",
    "- sentiment_id - 0 for negative and 1 for postive associated with the given sentiment\n",
    "- predicted_sentiment_id - 0 for negative and 1 for positive assocaited with the Hugging Face Sentiment Transformer\n",
    "\n",
    "#### Application Data - Gold Table Aggregation\n",
    "- min_timestamp - the oldest timestamp on a given mention (@username)\n",
    "- max_timestamp - the newest timestamp on a given mention (@username)\n",
    "- mention - the user (@username) that this row pertains to.\n",
    "- negative - total negative tweets directed at this mention (@username)\n",
    "- neutral - total neutral tweets directed at this mention (@username)\n",
    "- positive - total positive tweets directed at this mention (@username)\n",
    "\n",
    "When you are designing your approach, one of the main decisions that you will need to make is how you are going to orchestrate the streaming data processing in your pipeline.  There are several valid approaches to triggering your steams and how you will gate the execution of your pipeline.  Think through how you want to proceed and ask questions if you need guidance. The following references may be helpful:\n",
    "- [Spark Structured Streaming Programming Guide](https://spark.apache.org/docs/latest/structured-streaming-programming-guide.html)\n",
    "- [Databricks Autoloader - Cloudfiles](https://docs.databricks.com/en/ingestion/auto-loader/index.html)\n",
    "- [In class examples - Spark Structured Streaming Performance](https://dbc-f85bdc5b-07db.cloud.databricks.com/editor/notebooks/2638424645880316?o=1093580174577663)\n",
    "\n",
    "### Be sure your project runs end to end when *Run all* is executued on this notebook! (7 points)\n",
    "\n",
    "### This project is worth 25% of your final grade.\n",
    "- DSCC-202 Students have 55 possible points on this project (see points above and the instructions below)\n",
    "- DSCC-402 Students have 60 possible points on this project (one extra section to complete)"
   ]
  },
  {
   "cell_type": "code",
   "execution_count": 0,
   "metadata": {
    "application/vnd.databricks.v1+cell": {
     "cellMetadata": {
      "byteLimit": 2048000,
      "rowLimit": 10000
     },
     "inputWidgets": {},
     "nuid": "068f25d0-1387-4342-89cf-ce82a8d614ce",
     "showTitle": true,
     "tableResultSettingsMap": {},
     "title": "Pull in the Includes & Utiltites"
    }
   },
   "outputs": [],
   "source": [
    "%run ./includes/includes"
   ]
  },
  {
   "cell_type": "code",
   "execution_count": 0,
   "metadata": {
    "application/vnd.databricks.v1+cell": {
     "cellMetadata": {
      "byteLimit": 2048000,
      "rowLimit": 10000
     },
     "inputWidgets": {},
     "nuid": "6512bf1b-50e0-4a4b-84a9-e280a6260b56",
     "showTitle": true,
     "tableResultSettingsMap": {},
     "title": "Notebook Control Widgets (maybe helpful)"
    }
   },
   "outputs": [],
   "source": [
    "\"\"\"\n",
    "Adding a widget to the notebook to control the clearing of a previous run.\n",
    "or stopping the active streams using routines defined in the utilities notebook\n",
    "\"\"\"\n",
    "dbutils.widgets.removeAll()\n",
    "\n",
    "dbutils.widgets.dropdown(\"clear_previous_run\", \"No\", [\"No\",\"Yes\"])\n",
    "if (getArgument(\"clear_previous_run\") == \"Yes\"):\n",
    "    clear_previous_run()\n",
    "    print(\"Cleared all previous data.\")\n",
    "\n",
    "dbutils.widgets.dropdown(\"stop_streams\", \"No\", [\"No\",\"Yes\"])\n",
    "if (getArgument(\"stop_streams\") == \"Yes\"):\n",
    "    stop_all_streams()\n",
    "    print(\"Stopped all active streams.\")\n",
    "\n",
    "dbutils.widgets.dropdown(\"optimize_tables\", \"No\", [\"No\",\"Yes\"])\n",
    "if (getArgument(\"optimize_tables\") == \"Yes\"):\n",
    "    # Suck up those small files that we have been appending.\n",
    "    # Optimize the tables\n",
    "    optimize_table(BRONZE_DELTA)\n",
    "    optimize_table(SILVER_DELTA)\n",
    "    optimize_table(GOLD_DELTA)\n",
    "    print(\"Optimized all of the Delta Tables\")"
   ]
  },
  {
   "cell_type": "markdown",
   "metadata": {
    "application/vnd.databricks.v1+cell": {
     "cellMetadata": {
      "byteLimit": 2048000,
      "rowLimit": 10000
     },
     "inputWidgets": {},
     "nuid": "e8ce7c13-7f8f-4e11-b50c-fdaebbcf3f99",
     "showTitle": false,
     "tableResultSettingsMap": {},
     "title": ""
    }
   },
   "source": [
    "## 1.0 Import your libraries here (2 points)\n",
    "- Are your shuffle partitions consistent with your cluster and your workload?\n",
    "- Do you have the necessary libraries to perform the required operations in the pipeline/application?"
   ]
  },
  {
   "cell_type": "code",
   "execution_count": 0,
   "metadata": {
    "application/vnd.databricks.v1+cell": {
     "cellMetadata": {
      "byteLimit": 2048000,
      "rowLimit": 10000
     },
     "inputWidgets": {},
     "nuid": "67bafbb7-d34e-4e86-b159-b2e062faa1d0",
     "showTitle": false,
     "tableResultSettingsMap": {},
     "title": ""
    }
   },
   "outputs": [],
   "source": [
    "# System utilities\n",
    "import os \n",
    "import re as regex\n",
    "import time as timer\n",
    "\n",
    "# Data manipulation\n",
    "import pandas as dr  \n",
    "import numpy as num  \n",
    "\n",
    "# Visualization tools\n",
    "import seaborn as sns  \n",
    "import matplotlib.pyplot as plt  \n",
    "import plotly.express as px_lib  \n",
    "import plotly.graph_objects as go_lib  \n",
    "import plotly.figure_factory as ff_lib  \n",
    "\n",
    "# Spark core & SQL\n",
    "from pyspark.sql import SparkSession as SPBuilder\n",
    "from pyspark.sql import functions as pysf\n",
    "from pyspark.sql.functions import col as column, lit, when, regexp_replace\n",
    "from pyspark.sql.types import (\n",
    "    IntegerType as IntType,\n",
    "    StringType as StrType,\n",
    "    StructType as Schema,\n",
    "    StructField as Field\n",
    ")\n",
    "\n",
    "# Spark streaming\n",
    "from pyspark.streaming import StreamingContext as StreamCtx\n",
    "\n",
    "# Delta Lake\n",
    "from delta.tables import DeltaTable as DeltaTbl\n",
    "\n",
    "# ML and tracking\n",
    "import mlflow as mlf\n",
    "from pyspark.ml.evaluation import MulticlassClassificationEvaluator as MCCEval\n",
    "\n",
    "# Scikit‑learn metrics\n",
    "from sklearn.metrics import (precision_score, recall_score, f1_score, confusion_matrix)"
   ]
  },
  {
   "cell_type": "code",
   "execution_count": 0,
   "metadata": {
    "application/vnd.databricks.v1+cell": {
     "cellMetadata": {
      "byteLimit": 2048000,
      "rowLimit": 10000
     },
     "inputWidgets": {},
     "nuid": "25c11fbc-bfbe-48e6-92a0-6dc1cd4284bf",
     "showTitle": false,
     "tableResultSettingsMap": {},
     "title": ""
    }
   },
   "outputs": [],
   "source": [
    "# Spark tuning\n",
    "session = spark\n",
    "session.conf.set(\"spark.sql.shuffle.partitions\", \"8\")\n",
    "session.conf.set(\"spark.sql.legacy.timeParserPolicy\", \"LEGACY\")\n",
    "session.conf.set(\"spark.sql.adaptive.enabled\", \"true\")\n",
    "\n",
    "print(\"Spark configuration applied.\")"
   ]
  },
  {
   "cell_type": "markdown",
   "metadata": {
    "application/vnd.databricks.v1+cell": {
     "cellMetadata": {
      "byteLimit": 2048000,
      "rowLimit": 10000
     },
     "inputWidgets": {},
     "nuid": "2b7624b4-0aa5-46b7-9767-52f462b2c574",
     "showTitle": false,
     "tableResultSettingsMap": {},
     "title": ""
    }
   },
   "source": [
    "## 2.0 Define and execute utility functions (3 points)\n",
    "- Read the source file directory listing\n",
    "- Count the source files (how many are there?)\n",
    "- print the contents of one of the files"
   ]
  },
  {
   "cell_type": "code",
   "execution_count": 0,
   "metadata": {
    "application/vnd.databricks.v1+cell": {
     "cellMetadata": {
      "byteLimit": 2048000,
      "rowLimit": 10000
     },
     "inputWidgets": {},
     "nuid": "a59749d5-e45d-460f-9be1-33652cda2ea5",
     "showTitle": false,
     "tableResultSettingsMap": {},
     "title": ""
    }
   },
   "outputs": [],
   "source": [
    "# List and count raw tweet files via Databricks dbutils\n",
    "tweets_dir = TWEET_SOURCE_PATH\n",
    "files_info = dbutils.fs.ls(tweets_dir)\n",
    "print(f\"Found {len(files_info)} files in {tweets_dir}\")"
   ]
  },
  {
   "cell_type": "code",
   "execution_count": 0,
   "metadata": {
    "application/vnd.databricks.v1+cell": {
     "cellMetadata": {
      "byteLimit": 2048000,
      "rowLimit": 10000
     },
     "inputWidgets": {},
     "nuid": "bb2100dd-b0d9-46ff-9d36-31d01075b2ab",
     "showTitle": false,
     "tableResultSettingsMap": {},
     "title": ""
    }
   },
   "outputs": [],
   "source": [
    "# Contents of the first file\n",
    "first_path = files_info[0].path\n",
    "print(f\"\\n--- Contents of {first_path} ---\")\n",
    "session.read.text(first_path).show(truncate=False, n=50)"
   ]
  },
  {
   "cell_type": "markdown",
   "metadata": {
    "application/vnd.databricks.v1+cell": {
     "cellMetadata": {
      "byteLimit": 2048000,
      "rowLimit": 10000
     },
     "inputWidgets": {},
     "nuid": "1676aed7-527f-4ea7-9d3b-52544e8c1e37",
     "showTitle": false,
     "tableResultSettingsMap": {},
     "title": ""
    }
   },
   "source": [
    "## 3.0 Transform the Raw Data to Bronze Data using a stream  (8 points)\n",
    "- define the schema for the raw data\n",
    "- setup a read stream using cloudfiles and the source data format\n",
    "- setup a write stream using delta lake to append to the bronze delta table\n",
    "- enforce schema\n",
    "- allow a new schema to be merged into the bronze delta table\n",
    "- Use the defined BRONZE_CHECKPOINT and BRONZE_DELTA paths defined in the includes\n",
    "- name your raw to bronze stream as bronze_stream\n",
    "- transform the raw data to the bronze data using the data definition at the top of the notebook"
   ]
  },
  {
   "cell_type": "code",
   "execution_count": 0,
   "metadata": {
    "application/vnd.databricks.v1+cell": {
     "cellMetadata": {
      "byteLimit": 2048000,
      "rowLimit": 10000
     },
     "inputWidgets": {},
     "nuid": "c4e37574-9885-4908-bf97-609d140a8818",
     "showTitle": false,
     "tableResultSettingsMap": {},
     "title": ""
    }
   },
   "outputs": [],
   "source": [
    "# Raw to bronze schema\n",
    "raw_to_bronze_schema = Schema([\n",
    "    Field(\"date\", StrType(), True),\n",
    "    Field(\"user\", StrType(), True),\n",
    "    Field(\"text\", StrType(), True),\n",
    "    Field(\"sentiment\", StrType(), True),\n",
    "    Field(\"source_file\", StrType(), True),\n",
    "])"
   ]
  },
  {
   "cell_type": "code",
   "execution_count": 0,
   "metadata": {
    "application/vnd.databricks.v1+cell": {
     "cellMetadata": {
      "byteLimit": 2048000,
      "rowLimit": 10000
     },
     "inputWidgets": {},
     "nuid": "a5c93451-3b0f-47ad-a5f9-a91e22115445",
     "showTitle": false,
     "tableResultSettingsMap": {},
     "title": ""
    }
   },
   "outputs": [],
   "source": [
    "# Ingest raw JSON files as a streaming DataFrame\n",
    "bronze_input_df = (\n",
    "    session.readStream\n",
    "        .format(\"cloudFiles\")\n",
    "        .option(\"cloudFiles.format\", \"json\")\n",
    "        .option(\"maxFilesPerTrigger\", 10)\n",
    "        .schema(raw_to_bronze_schema)           \n",
    "        .load(TWEET_SOURCE_PATH)                \n",
    "        .withColumn(\"source_file\", pysf.input_file_name())\n",
    "        .withColumn(\"ingest_ts\", pysf.current_timestamp())\n",
    ")"
   ]
  },
  {
   "cell_type": "code",
   "execution_count": 0,
   "metadata": {
    "application/vnd.databricks.v1+cell": {
     "cellMetadata": {
      "byteLimit": 2048000,
      "rowLimit": 10000
     },
     "inputWidgets": {},
     "nuid": "4154622b-ccf0-415b-aed2-c10be3726c41",
     "showTitle": false,
     "tableResultSettingsMap": {},
     "title": ""
    }
   },
   "outputs": [],
   "source": [
    "# Write to Bronze Delta\n",
    "bronze_stream = (\n",
    "    bronze_input_df.writeStream\n",
    "        .outputMode(\"append\")\n",
    "        .format(\"delta\")\n",
    "        .option(\"mergeSchema\", \"true\")\n",
    "        .option(\"checkpointLocation\", BRONZE_CHECKPOINT)\n",
    "        .queryName(\"bronze_stream\")\n",
    "        .trigger(once=True)\n",
    "        .start(BRONZE_DELTA)\n",
    ")\n",
    "\n",
    "# wait for the Bronze stream to finish\n",
    "bronze_stream.awaitTermination()"
   ]
  },
  {
   "cell_type": "markdown",
   "metadata": {
    "application/vnd.databricks.v1+cell": {
     "cellMetadata": {
      "byteLimit": 2048000,
      "rowLimit": 10000
     },
     "inputWidgets": {},
     "nuid": "f94a594e-1a85-458f-9fe8-959e06d2e5f0",
     "showTitle": false,
     "tableResultSettingsMap": {},
     "title": ""
    }
   },
   "source": [
    "## 4.0 Transform the Bronze Data to Silver Data using a stream (5 points)\n",
    "- setup a read stream on your bronze delta table\n",
    "- setup a write stream to append to the silver delta table\n",
    "- Use the defined SILVER_CHECKPOINT and SILVER_DELTA paths in the includes\n",
    "- name your bronze to silver stream as silver_stream\n",
    "- transform the bronze data to the silver data using the data definition at the top of the notebook"
   ]
  },
  {
   "cell_type": "code",
   "execution_count": 0,
   "metadata": {
    "application/vnd.databricks.v1+cell": {
     "cellMetadata": {
      "byteLimit": 2048000,
      "rowLimit": 10000
     },
     "inputWidgets": {},
     "nuid": "091ec59c-d968-4acf-b56f-cc9178cd0693",
     "showTitle": false,
     "tableResultSettingsMap": {},
     "title": ""
    }
   },
   "outputs": [],
   "source": [
    "# Sample df\n",
    "bronze_df_sample = session.read.format(\"delta\").load(BRONZE_DELTA)\n",
    "display(bronze_df_sample.limit(5))"
   ]
  },
  {
   "cell_type": "code",
   "execution_count": 0,
   "metadata": {
    "application/vnd.databricks.v1+cell": {
     "cellMetadata": {
      "byteLimit": 2048000,
      "rowLimit": 10000
     },
     "inputWidgets": {},
     "nuid": "dc50f6ba-8db9-479e-8e09-ee83fc41880d",
     "showTitle": false,
     "tableResultSettingsMap": {},
     "title": ""
    }
   },
   "outputs": [],
   "source": [
    "# Read Bronze Delta as a stream\n",
    "silver_input_df = (\n",
    "    session.readStream\n",
    "           .format(\"delta\")\n",
    "           .option(\"maxFilesPerTrigger\", 10)\n",
    "           .load(BRONZE_DELTA)\n",
    ")"
   ]
  },
  {
   "cell_type": "code",
   "execution_count": 0,
   "metadata": {
    "application/vnd.databricks.v1+cell": {
     "cellMetadata": {
      "byteLimit": 2048000,
      "rowLimit": 10000
     },
     "inputWidgets": {},
     "nuid": "f03b9807-a697-4d92-9d6c-82f272e40b41",
     "showTitle": false,
     "tableResultSettingsMap": {},
     "title": ""
    }
   },
   "outputs": [],
   "source": [
    "# Apply Silver level transforms\n",
    "silver_transformed_df = (\n",
    "    silver_input_df\n",
    "      .withColumn(\"timestamp\", pysf.to_timestamp(pysf.col(\"date\"), \"EEE MMM dd HH:mm:ss zzz yyyy\"))\n",
    "      .withColumn(\"mention\", pysf.explode(\n",
    "           pysf.split(\n",
    "               pysf.regexp_replace(pysf.col(\"text\"), \"[^@\\w]\", \" \"),\n",
    "               \" \"\n",
    "           )\n",
    "      ))\n",
    "      .filter(\n",
    "          pysf.col(\"mention\").startswith(\"@\") & pysf.col(\"mention\").rlike(\"^@\\\\w+\")\n",
    "      )\n",
    "      .withColumn(\"cleaned_text\", pysf.regexp_replace(pysf.col(\"text\"), \"@\\\\w+\", \"\"))\n",
    "      .select(\"timestamp\", \"mention\", \"cleaned_text\", \"sentiment\")\n",
    ")"
   ]
  },
  {
   "cell_type": "code",
   "execution_count": 0,
   "metadata": {
    "application/vnd.databricks.v1+cell": {
     "cellMetadata": {
      "byteLimit": 2048000,
      "rowLimit": 10000
     },
     "inputWidgets": {},
     "nuid": "4d899fee-1a57-4502-9276-02176e7c06bf",
     "showTitle": false,
     "tableResultSettingsMap": {},
     "title": ""
    }
   },
   "outputs": [],
   "source": [
    "# Write Silver Delta with schema evolution\n",
    "silver_stream = (\n",
    "    silver_transformed_df.writeStream\n",
    "        .outputMode(\"append\")\n",
    "        .format(\"delta\")\n",
    "        .option(\"checkpointLocation\", SILVER_CHECKPOINT)\n",
    "        .queryName(\"silver_stream\")\n",
    "        .trigger(once=True)\n",
    "        .start(SILVER_DELTA)\n",
    ")\n",
    "\n",
    "silver_stream.awaitTermination()\n",
    "print(\"Silver ingestion complete.\")"
   ]
  },
  {
   "cell_type": "markdown",
   "metadata": {
    "application/vnd.databricks.v1+cell": {
     "cellMetadata": {
      "byteLimit": 2048000,
      "rowLimit": 10000
     },
     "inputWidgets": {},
     "nuid": "9ee38aba-e340-4766-8339-71ef2ecfde3a",
     "showTitle": false,
     "tableResultSettingsMap": {},
     "title": ""
    }
   },
   "source": [
    "## 5.0 Transform the Silver Data to Gold Data using a stream (7 points)\n",
    "- setup a read stream on your silver delta table\n",
    "- setup a write stream to append to the gold delta table\n",
    "- Use the defined GOLD_CHECKPOINT and GOLD_DELTA paths defines in the includes\n",
    "- name your silver to gold stream as gold_stream\n",
    "- transform the silver data to the gold data using the data definition at the top of the notebook\n",
    "- Load the pretrained transformer sentiment classifier from the MODEL_NAME at the production level from the MLflow registry\n",
    "- Use a spark UDF to parallelize the inference across your silver data"
   ]
  },
  {
   "cell_type": "code",
   "execution_count": 0,
   "metadata": {
    "application/vnd.databricks.v1+cell": {
     "cellMetadata": {
      "byteLimit": 2048000,
      "rowLimit": 10000
     },
     "inputWidgets": {},
     "nuid": "31e8949d-c016-44a7-9f03-65f471dfd22d",
     "showTitle": false,
     "tableResultSettingsMap": {},
     "title": ""
    }
   },
   "outputs": [],
   "source": [
    "# Read Silver Delta as a streaming source\n",
    "gold_input_df = (\n",
    "    session.readStream\n",
    "           .format(\"delta\")\n",
    "           .option(\"maxFilesPerTrigger\", 10)\n",
    "           .load(SILVER_DELTA)\n",
    "           .repartition(8)                \n",
    ")"
   ]
  },
  {
   "cell_type": "code",
   "execution_count": 0,
   "metadata": {
    "application/vnd.databricks.v1+cell": {
     "cellMetadata": {
      "byteLimit": 2048000,
      "rowLimit": 10000
     },
     "inputWidgets": {},
     "nuid": "8ef6b83b-518f-4c2a-99a4-1954887c2794",
     "showTitle": false,
     "tableResultSettingsMap": {},
     "title": ""
    }
   },
   "outputs": [],
   "source": [
    "# Load the model\n",
    "sentiment_analysis = mlf.pyfunc.spark_udf(spark, model_uri = f\"models:/{MODEL_NAME}/production\")"
   ]
  },
  {
   "cell_type": "code",
   "execution_count": 0,
   "metadata": {
    "application/vnd.databricks.v1+cell": {
     "cellMetadata": {
      "byteLimit": 2048000,
      "rowLimit": 10000
     },
     "inputWidgets": {},
     "nuid": "c04e1104-548e-4025-93e5-2d38c3d7f220",
     "showTitle": false,
     "tableResultSettingsMap": {},
     "title": ""
    }
   },
   "outputs": [],
   "source": [
    "# Apply Gold level transforms using the UDF\n",
    "gold_transformed_df = (\n",
    "    gold_input_df\n",
    "      .withColumn(\"prediction_results\", sentiment_analysis(pysf.col(\"cleaned_text\")))\n",
    "      .withColumn(\"predicted_score\", pysf.col(\"prediction_results.score\") * 100)\n",
    "      .withColumn(\"predicted_sentiment\", pysf.col(\"prediction_results.label\"))\n",
    "      .withColumn(\"sentiment_id\", pysf.when(pysf.col(\"sentiment\")==\"positive\", 1).otherwise(0))\n",
    "      .withColumn(\"predicted_sentiment_id\", pysf.when(pysf.col(\"predicted_sentiment\")==\"POS\", 1).otherwise(0))\n",
    "      .drop(\"prediction_results\")\n",
    ")"
   ]
  },
  {
   "cell_type": "code",
   "execution_count": 0,
   "metadata": {
    "application/vnd.databricks.v1+cell": {
     "cellMetadata": {
      "byteLimit": 2048000,
      "rowLimit": 10000
     },
     "inputWidgets": {},
     "nuid": "5ca402c6-6a4a-4175-bb1a-2015a3735a41",
     "showTitle": false,
     "tableResultSettingsMap": {},
     "title": ""
    }
   },
   "outputs": [],
   "source": [
    "# Start the Gold stream \n",
    "gold_stream = (\n",
    "    gold_transformed_df.writeStream\n",
    "        .format(\"delta\")\n",
    "        .option(\"checkpointLocation\", GOLD_CHECKPOINT)\n",
    "        .outputMode(\"append\")\n",
    "        .queryName(\"gold_stream\")\n",
    "        .trigger(once=True)\n",
    "        .start(GOLD_DELTA)\n",
    ")\n",
    "print(\"Gold stream started.\")\n",
    "gold_stream.awaitTermination()"
   ]
  },
  {
   "cell_type": "code",
   "execution_count": 0,
   "metadata": {
    "application/vnd.databricks.v1+cell": {
     "cellMetadata": {
      "byteLimit": 2048000,
      "rowLimit": 10000
     },
     "inputWidgets": {},
     "nuid": "87246b2a-bd95-450a-8a14-503d8f71081e",
     "showTitle": false,
     "tableResultSettingsMap": {},
     "title": ""
    }
   },
   "outputs": [],
   "source": [
    "# Read Gold as a batch DataFrame\n",
    "gold_df_sample = session.read.format(\"delta\").load(GOLD_DELTA)\n",
    "display(gold_df_sample.limit(5))"
   ]
  },
  {
   "cell_type": "markdown",
   "metadata": {
    "application/vnd.databricks.v1+cell": {
     "cellMetadata": {
      "byteLimit": 2048000,
      "rowLimit": 10000
     },
     "inputWidgets": {},
     "nuid": "05cd829f-46d6-4d94-8555-887d29a33daf",
     "showTitle": false,
     "tableResultSettingsMap": {},
     "title": ""
    }
   },
   "source": [
    "## 6.0 Monitor your Streams (5 points)\n",
    "- Setup a loop that runs at least every 10 seconds\n",
    "- Print a timestamp of the monitoring query along with the list of streams, rows processed on each, and the processing time on each\n",
    "- Run the loop until all of the data is processed (0 rows read on each active stream)\n",
    "- Plot a line graph that shows the data processed by each stream over time\n",
    "- Plot a line graph that shows the average processing time on each stream over time"
   ]
  },
  {
   "cell_type": "code",
   "execution_count": 0,
   "metadata": {
    "application/vnd.databricks.v1+cell": {
     "cellMetadata": {
      "byteLimit": 2048000,
      "rowLimit": 10000
     },
     "inputWidgets": {},
     "nuid": "631be852-38c5-45cd-ab36-0a5f7b5bf95d",
     "showTitle": false,
     "tableResultSettingsMap": {},
     "title": ""
    }
   },
   "outputs": [],
   "source": [
    "from datetime import datetime\n",
    "import time\n",
    "import pandas as pd\n",
    "import matplotlib.pyplot as plt\n",
    "\n",
    "# Gold stream \n",
    "gold_stream = (\n",
    "    gold_transformed_df.writeStream\n",
    "        .format(\"delta\")\n",
    "        .option(\"checkpointLocation\", GOLD_CHECKPOINT)\n",
    "        .outputMode(\"append\")\n",
    "        .queryName(\"gold_stream\")\n",
    "        .trigger(once=True)\n",
    "        .start(GOLD_DELTA)\n",
    ")\n",
    "print(\"Gold stream started.\")\n",
    "\n",
    "# Monitor Streams \n",
    "metrics = []\n",
    "\n",
    "while True:\n",
    "    ts = datetime.now()\n",
    "    print(f\"\\n=== Monitor @ {ts.strftime('%Y-%m-%d %H:%M:%S')} ===\")\n",
    "    \n",
    "    # loop through all active streams\n",
    "    total_rows = 0\n",
    "    for q in session.streams.active:\n",
    "        prog = q.lastProgress or {}\n",
    "        rows_in = prog.get(\"numInputRows\", 0)\n",
    "        batch_time = prog.get(\"durationMs\", {}).get(\"addBatch\", None)\n",
    "        total_rows += rows_in\n",
    "        \n",
    "        print(f\"Stream `{q.name}` | Rows In: {rows_in} | Batch Time: {batch_time} ms\")\n",
    "    \n",
    "    # record snapshot\n",
    "    metrics.append({\n",
    "        \"monitor_time\": ts,\n",
    "        \"rows_processed\": total_rows,\n",
    "        \"processing_time\": batch_time\n",
    "    })\n",
    "    \n",
    "    # stop when stream has finished and processed 0 rows\n",
    "    if not any(q.isActive for q in session.streams.active) and total_rows == 0:\n",
    "        print(\"All data processed and no active streams—exiting monitor loop.\")\n",
    "        break\n",
    "    \n",
    "    time.sleep(10)\n",
    "\n",
    "# ensure stream is stopped\n",
    "if gold_stream.isActive:\n",
    "    gold_stream.stop()\n",
    "print(\"Gold stream stopped.\")\n",
    "\n",
    "# Build DataFrame for plotting \n",
    "history_df = pd.DataFrame(metrics)\n",
    "\n",
    "# Rows processed over time per stream \n",
    "plt.figure()\n",
    "plt.plot(history_df['monitor_time'], history_df['rows_processed'], marker='o')\n",
    "plt.xlabel('Time')\n",
    "plt.ylabel('Rows Processed')\n",
    "plt.title('Rows Processed Over Time')\n",
    "plt.tight_layout()\n",
    "plt.show()\n",
    "\n",
    "# Processing time over time per stream \n",
    "plt.figure()\n",
    "plt.plot(history_df['monitor_time'], history_df['processing_time'], marker='o')\n",
    "plt.xlabel('Time')\n",
    "plt.ylabel('Processing Time (ms)')\n",
    "plt.title('Processing Time Over Time')\n",
    "plt.tight_layout()\n",
    "plt.show()"
   ]
  },
  {
   "cell_type": "markdown",
   "metadata": {
    "application/vnd.databricks.v1+cell": {
     "cellMetadata": {
      "byteLimit": 2048000,
      "rowLimit": 10000
     },
     "inputWidgets": {},
     "nuid": "9bc3e824-d218-43e5-a43b-4c6dbe31950d",
     "showTitle": false,
     "tableResultSettingsMap": {},
     "title": ""
    }
   },
   "source": [
    "## 7.0 Bronze Data Exploratory Data Analysis (5 points)\n",
    "- How many tweets are captured in your Bronze Table?\n",
    "- Are there any columns that contain Nan or Null values?  If so how many and what will you do in your silver transforms to address this?\n",
    "- Count the number of tweets by each unique user handle and sort the data by descending count.\n",
    "- How many tweets have at least one mention (@) how many tweet have no mentions (@)\n",
    "- Plot a bar chart that shows the top 20 tweeters (users)\n"
   ]
  },
  {
   "cell_type": "code",
   "execution_count": 0,
   "metadata": {
    "application/vnd.databricks.v1+cell": {
     "cellMetadata": {
      "byteLimit": 2048000,
      "rowLimit": 10000
     },
     "inputWidgets": {},
     "nuid": "33e05866-0264-43af-8a95-52e841124d60",
     "showTitle": false,
     "tableResultSettingsMap": {},
     "title": ""
    }
   },
   "outputs": [],
   "source": [
    "# Loading bronze table\n",
    "bronze_table = spark.read.format(\"delta\").load(BRONZE_DELTA)\n",
    "display(bronze_table.limit(5))\n",
    "\n",
    "# Total number of tweets\n",
    "tweet_count = bronze_table.count()\n",
    "print(\"The number of tweets captured in the Bronze Table: \", tweet_count)"
   ]
  },
  {
   "cell_type": "code",
   "execution_count": 0,
   "metadata": {
    "application/vnd.databricks.v1+cell": {
     "cellMetadata": {
      "byteLimit": 2048000,
      "rowLimit": 10000
     },
     "inputWidgets": {},
     "nuid": "f552cee8-225d-4ef0-a712-e8d52ad8ea8c",
     "showTitle": false,
     "tableResultSettingsMap": {},
     "title": ""
    }
   },
   "outputs": [],
   "source": [
    "# Null values in each column\n",
    "null_value_counts = bronze_table.select([\n",
    "    pysf.count(pysf.when(pysf.col(c).isNull(), c)).alias(c)\n",
    "    for c in bronze_table.columns\n",
    "])\n",
    "\n",
    "null_value_counts.show()"
   ]
  },
  {
   "cell_type": "code",
   "execution_count": 0,
   "metadata": {
    "application/vnd.databricks.v1+cell": {
     "cellMetadata": {
      "byteLimit": 2048000,
      "rowLimit": 10000
     },
     "inputWidgets": {},
     "nuid": "6a58e989-ebb2-47bc-9adc-6f199727bb8a",
     "showTitle": false,
     "tableResultSettingsMap": {},
     "title": ""
    }
   },
   "outputs": [],
   "source": [
    "# Number of tweets count by each unique user handle and sorted in descending order\n",
    "user_tweet_counts_unique_user = bronze_table.groupBy(\"user\").count().orderBy(\"count\", ascending=False)\n",
    "print(\"Total number of tweets by each unique user handle:\")\n",
    "user_tweet_counts_unique_user.show()"
   ]
  },
  {
   "cell_type": "code",
   "execution_count": 0,
   "metadata": {
    "application/vnd.databricks.v1+cell": {
     "cellMetadata": {
      "byteLimit": 2048000,
      "rowLimit": 10000
     },
     "inputWidgets": {},
     "nuid": "4844905a-551b-43fc-bb1b-d0f5b460b2e3",
     "showTitle": false,
     "tableResultSettingsMap": {},
     "title": ""
    }
   },
   "outputs": [],
   "source": [
    "# Number of tweets with @mention and no @ mention\n",
    "tweets_with_mention_symbol = bronze_table.filter(pysf.col(\"text\").contains(\"@\")).count()\n",
    "tweets_without_mention_symbol = tweet_count - tweets_with_mention_symbol\n",
    "print(f\"Tweets with mentions symbol: {tweets_with_mention_symbol}\")\n",
    "print(f\"Tweets without mentions symbol: {tweets_without_mention_symbol}\")"
   ]
  },
  {
   "cell_type": "code",
   "execution_count": 0,
   "metadata": {
    "application/vnd.databricks.v1+cell": {
     "cellMetadata": {
      "byteLimit": 2048000,
      "rowLimit": 10000
     },
     "inputWidgets": {},
     "nuid": "dbaf97a3-79e4-47a6-bd36-02bee6fde4bc",
     "showTitle": false,
     "tableResultSettingsMap": {},
     "title": ""
    }
   },
   "outputs": [],
   "source": [
    "# Top 20 tweeters (users)\n",
    "top_twitter_users = user_tweet_counts_unique_user.limit(20).toPandas()\n",
    "fig = px_lib.bar(\n",
    "    top_twitter_users,\n",
    "    x=\"user\",\n",
    "    y=\"count\",\n",
    "    title=\"20 Top Users\"\n",
    ")\n",
    "fig.show()"
   ]
  },
  {
   "cell_type": "markdown",
   "metadata": {
    "application/vnd.databricks.v1+cell": {
     "cellMetadata": {
      "byteLimit": 2048000,
      "rowLimit": 10000
     },
     "inputWidgets": {},
     "nuid": "0494d8b4-5a55-47fc-af12-47325f34a303",
     "showTitle": false,
     "tableResultSettingsMap": {},
     "title": ""
    }
   },
   "source": [
    "## 8.0 Capture the accuracy metrics from the gold table in MLflow  (4 points)\n",
    "Store the following in an MLflow experiment run:\n",
    "- Store the precision, recall, and F1-score as MLflow metrics\n",
    "- Store an image of the confusion matrix as an MLflow artifact\n",
    "- Store the model name and the MLflow version that was used as an MLflow parameters\n",
    "- Store the version of the Delta Table (input-silver) as an MLflow parameter"
   ]
  },
  {
   "cell_type": "code",
   "execution_count": 0,
   "metadata": {
    "application/vnd.databricks.v1+cell": {
     "cellMetadata": {
      "byteLimit": 2048000,
      "rowLimit": 10000
     },
     "inputWidgets": {},
     "nuid": "3bb174ad-67e4-4b0a-be36-ff20a760ee8b",
     "showTitle": false,
     "tableResultSettingsMap": {},
     "title": ""
    }
   },
   "outputs": [],
   "source": [
    "# Load Gold results\n",
    "gold_df = session.read.format(\"delta\").load(GOLD_DELTA)"
   ]
  },
  {
   "cell_type": "code",
   "execution_count": 0,
   "metadata": {
    "application/vnd.databricks.v1+cell": {
     "cellMetadata": {
      "byteLimit": 2048000,
      "rowLimit": 10000
     },
     "inputWidgets": {},
     "nuid": "4be565de-2522-403f-9ac2-a5d990ae057b",
     "showTitle": false,
     "tableResultSettingsMap": {},
     "title": ""
    }
   },
   "outputs": [],
   "source": [
    "# Collect true & predicted labels\n",
    "results_pd = gold_df.select(\"sentiment_id\", \"predicted_sentiment_id\").toPandas()\n",
    "y_true = results_pd[\"sentiment_id\"]\n",
    "y_pred = results_pd[\"predicted_sentiment_id\"]"
   ]
  },
  {
   "cell_type": "code",
   "execution_count": 0,
   "metadata": {
    "application/vnd.databricks.v1+cell": {
     "cellMetadata": {
      "byteLimit": 2048000,
      "rowLimit": 10000
     },
     "inputWidgets": {},
     "nuid": "298419a8-ed8f-4c38-a854-e62205e7fe5d",
     "showTitle": false,
     "tableResultSettingsMap": {},
     "title": ""
    }
   },
   "outputs": [],
   "source": [
    "# Compute metrics\n",
    "prec = precision_score(y_true, y_pred)\n",
    "rec = recall_score(y_true, y_pred)\n",
    "f1  = f1_score(y_true, y_pred)\n",
    "cm  = confusion_matrix(y_true, y_pred)"
   ]
  },
  {
   "cell_type": "code",
   "execution_count": 0,
   "metadata": {
    "application/vnd.databricks.v1+cell": {
     "cellMetadata": {
      "byteLimit": 2048000,
      "rowLimit": 10000
     },
     "inputWidgets": {},
     "nuid": "a68604f5-980e-4855-a865-ceac203c1ec8",
     "showTitle": false,
     "tableResultSettingsMap": {},
     "title": ""
    }
   },
   "outputs": [],
   "source": [
    "# Retrieve Silver table version\n",
    "silver_history = DeltaTable.forPath(session, SILVER_DELTA).history(1)\n",
    "silver_version = silver_history.select(\"version\").collect()[0][0]"
   ]
  },
  {
   "cell_type": "code",
   "execution_count": 0,
   "metadata": {
    "application/vnd.databricks.v1+cell": {
     "cellMetadata": {
      "byteLimit": 2048000,
      "rowLimit": 10000
     },
     "inputWidgets": {},
     "nuid": "cf6e3fde-43b4-48fc-a72a-52c188dd394f",
     "showTitle": false,
     "tableResultSettingsMap": {},
     "title": ""
    }
   },
   "outputs": [],
   "source": [
    "# Log to MLflow\n",
    "with mlf.start_run() as run:\n",
    "    # a) Metrics\n",
    "    mlf.log_metric(\"precision\", prec)\n",
    "    mlf.log_metric(\"recall\", rec)\n",
    "    mlf.log_metric(\"f1_score\", f1)\n",
    "\n",
    "    # b) Confusion matrix artifact\n",
    "    plt.figure(figsize=(4, 4))\n",
    "    sns.heatmap(cm, annot=True, fmt=\"d\", cbar=False)\n",
    "    plt.title(\"Confusion Matrix\")\n",
    "    plt.xlabel(\"Predicted\")\n",
    "    plt.ylabel(\"Actual\")\n",
    "    plt.tight_layout()\n",
    "    cm_path = \"confusion_matrix.png\"\n",
    "    plt.savefig(cm_path)\n",
    "    mlf.log_artifact(cm_path)\n",
    "\n",
    "    # c) Parameters\n",
    "    mlf.log_param(\"model_name\", MODEL_NAME)\n",
    "    mlf.log_param(\"mlflow_version\", mlf.__version__)\n",
    "    mlf.log_param(\"silver_table_version\", str(silver_version))\n",
    "\n",
    "print(\"Metrics, confusion matrix, and parameters logged to MLflow.\")"
   ]
  },
  {
   "cell_type": "markdown",
   "metadata": {
    "application/vnd.databricks.v1+cell": {
     "cellMetadata": {
      "byteLimit": 2048000,
      "rowLimit": 10000
     },
     "inputWidgets": {},
     "nuid": "81e0e2de-b872-4698-81cc-1669646c2183",
     "showTitle": false,
     "tableResultSettingsMap": {},
     "title": ""
    }
   },
   "source": [
    "## 9.0 Application Data Processing and Visualization (6 points)\n",
    "- How many mentions are there in the gold data total?\n",
    "- Count the number of neutral, positive and negative tweets for each mention in new columns\n",
    "- Capture the total for each mention in a new column\n",
    "- Sort the mention count totals in descending order\n",
    "- Plot a bar chart of the top 20 mentions with positive sentiment (the people who are in favor)\n",
    "- Plot a bar chart of the top 20 mentions with negative sentiment (the people who are the vilians)\n",
    "\n",
    "*note: A mention is a specific twitter user that has been \"mentioned\" in a tweet with an @user reference."
   ]
  },
  {
   "cell_type": "code",
   "execution_count": 0,
   "metadata": {
    "application/vnd.databricks.v1+cell": {
     "cellMetadata": {
      "byteLimit": 2048000,
      "rowLimit": 10000
     },
     "inputWidgets": {},
     "nuid": "8250667b-eaa5-48a1-90c7-bfe11e666e32",
     "showTitle": false,
     "tableResultSettingsMap": {},
     "title": ""
    }
   },
   "outputs": [],
   "source": [
    "# Loading Gold Delta Table\n",
    "gold_df = session.read.format(\"delta\").load(GOLD_DELTA)\n",
    "\n",
    "# How many mentions are there in the gold data total?\n",
    "total_mentions = gold_df.count()\n",
    "print(f\"Total mentions in gold data: {total_mentions}\")"
   ]
  },
  {
   "cell_type": "code",
   "execution_count": 0,
   "metadata": {
    "application/vnd.databricks.v1+cell": {
     "cellMetadata": {
      "byteLimit": 2048000,
      "rowLimit": 10000
     },
     "inputWidgets": {},
     "nuid": "e955b423-1936-4c7f-a858-4bd87554f716",
     "showTitle": false,
     "tableResultSettingsMap": {},
     "title": ""
    }
   },
   "outputs": [],
   "source": [
    "# Count the number of neutral, positive, and negative tweets for each mention\n",
    "mention_counts_df = (\n",
    "    gold_df\n",
    "      .groupBy(\"mention\")\n",
    "      .pivot(\"predicted_sentiment\", [\"POS\", \"NEU\", \"NEG\"])\n",
    "      .count()\n",
    "      .na.fill(0)\n",
    "      .withColumnRenamed(\"POS\", \"positive\")\n",
    "      .withColumnRenamed(\"NEU\", \"neutral\")\n",
    "      .withColumnRenamed(\"NEG\", \"negative\")\n",
    "      .withColumn(\"total\", \n",
    "                  pysf.col(\"positive\") + pysf.col(\"neutral\") + pysf.col(\"negative\"))\n",
    "      .orderBy(pysf.col(\"total\").desc())\n",
    ")"
   ]
  },
  {
   "cell_type": "code",
   "execution_count": 0,
   "metadata": {
    "application/vnd.databricks.v1+cell": {
     "cellMetadata": {
      "byteLimit": 2048000,
      "rowLimit": 10000
     },
     "inputWidgets": {},
     "nuid": "0577f661-b1d0-46d6-b8d4-4118bb9710cf",
     "showTitle": false,
     "tableResultSettingsMap": {},
     "title": ""
    }
   },
   "outputs": [],
   "source": [
    "# Convert to Pandas for plotting\n",
    "mention_counts_pd = mention_counts_df.toPandas()\n",
    "mention_counts_pd.head(10)"
   ]
  },
  {
   "cell_type": "code",
   "execution_count": 0,
   "metadata": {
    "application/vnd.databricks.v1+cell": {
     "cellMetadata": {
      "byteLimit": 2048000,
      "rowLimit": 10000
     },
     "inputWidgets": {},
     "nuid": "5e65fb34-7b59-445d-823b-53b894774ffe",
     "showTitle": false,
     "tableResultSettingsMap": {},
     "title": ""
    }
   },
   "outputs": [],
   "source": [
    "# Plot top 20 mentions by positive sentiment\n",
    "top_positive = mention_counts_pd.nlargest(20, \"positive\")\n",
    "fig_pos = px_lib.bar(\n",
    "    top_positive,\n",
    "    x=\"mention\",\n",
    "    y=\"positive\",\n",
    "    title=\"Top 20 Mentions by Positive Sentiment (In Favor)\"\n",
    ")\n",
    "fig_pos.show()"
   ]
  },
  {
   "cell_type": "code",
   "execution_count": 0,
   "metadata": {
    "application/vnd.databricks.v1+cell": {
     "cellMetadata": {
      "byteLimit": 2048000,
      "rowLimit": 10000
     },
     "inputWidgets": {},
     "nuid": "377f02d3-704f-4a54-b9e4-de631fdd084d",
     "showTitle": false,
     "tableResultSettingsMap": {},
     "title": ""
    }
   },
   "outputs": [],
   "source": [
    "# Plot top 20 mentions by negative sentiment\n",
    "top_negative = mention_counts_pd.nlargest(20, \"negative\")\n",
    "fig_neg = px_lib.bar(\n",
    "    top_negative,\n",
    "    x=\"mention\",\n",
    "    y=\"negative\",\n",
    "    title=\"Top 20 Mentions by Negative Sentiment (Villains)\"\n",
    ")\n",
    "fig_neg.show()"
   ]
  },
  {
   "cell_type": "markdown",
   "metadata": {
    "application/vnd.databricks.v1+cell": {
     "cellMetadata": {
      "byteLimit": 2048000,
      "rowLimit": 10000
     },
     "inputWidgets": {},
     "nuid": "5d5add3f-0c13-4d81-86d8-12cf3cfdd2c8",
     "showTitle": false,
     "tableResultSettingsMap": {},
     "title": ""
    }
   },
   "source": [
    "## 10.0 Clean up and completion of your pipeline (3 points)\n",
    "- using the utilities what streams are running? If any.\n",
    "- Stop all active streams\n",
    "- print out the elapsed time of your notebook. Note: In the includes there is a variable START_TIME that captures the starting time of the notebook."
   ]
  },
  {
   "cell_type": "code",
   "execution_count": 0,
   "metadata": {
    "application/vnd.databricks.v1+cell": {
     "cellMetadata": {
      "byteLimit": 2048000,
      "rowLimit": 10000
     },
     "inputWidgets": {},
     "nuid": "0304e685-c26e-447d-b230-c37266f30003",
     "showTitle": false,
     "tableResultSettingsMap": {},
     "title": ""
    }
   },
   "outputs": [],
   "source": [
    "# Stop any remaining streams\n",
    "active = session.streams.active\n",
    "if active:\n",
    "    print(\"Stopping active streams:\")\n",
    "    for q in active:\n",
    "        print(f\" • {q.name}\")\n",
    "    stopped = stop_all_streams()\n",
    "    print(f\"stop_all_streams() stopped anything? {stopped}\")\n",
    "else:\n",
    "    print(\"No active streams to stop.\")\n",
    "\n",
    "# Print elapsed time\n",
    "try:\n",
    "    end_time = time.time()\n",
    "    elapsed = end_time - START_TIME\n",
    "    mins, secs = divmod(elapsed, 60)\n",
    "    print(f\"Total elapsed time: {int(mins)}m {secs:.1f}s ({elapsed:.1f} seconds)\")\n",
    "except NameError:\n",
    "    print(\"START_TIME not defined. Please add `START_TIME = time.time()` at the top of your notebook.\")"
   ]
  },
  {
   "cell_type": "markdown",
   "metadata": {
    "application/vnd.databricks.v1+cell": {
     "cellMetadata": {
      "byteLimit": 2048000,
      "rowLimit": 10000
     },
     "inputWidgets": {},
     "nuid": "b88fc0e5-f50c-4ed1-9480-16a4c8a44b30",
     "showTitle": false,
     "tableResultSettingsMap": {},
     "title": ""
    }
   },
   "source": [
    "## 11.0 How Optimized is your Spark Application (Grad Students Only) (5 points)\n",
    "Graduate students (registered for the DSCC-402 section of the course) are required to do this section.  This is a written analysis using the Spark UI (link to screen shots) that support your analysis of your pipelines execution and what is driving its performance.\n",
    "Recall that Spark Optimization has 5 significant dimensions of considertation:\n",
    "- Spill: write to executor disk due to lack of memory\n",
    "- Skew: imbalance in partition size\n",
    "- Shuffle: network io moving data between executors (wide transforms)\n",
    "- Storage: inefficiency due to disk storage format (small files, location)\n",
    "- Serialization: distribution of code segments across the cluster\n",
    "\n",
    "Comment on each of the dimentions of performance and how your impelementation is or is not being affected.  Use specific information in the Spark UI to support your description.  \n",
    "\n",
    "Note: you can take sreenshots of the Spark UI from your project runs in databricks and then link to those pictures by storing them as a publicly accessible file on your cloud drive (google, one drive, etc.)\n",
    "\n",
    "References:\n",
    "- [Spark UI Reference Reference](https://spark.apache.org/docs/latest/web-ui.html#web-ui)\n",
    "- [Spark UI Simulator](https://www.databricks.training/spark-ui-simulator/index.html)"
   ]
  },
  {
   "cell_type": "markdown",
   "metadata": {
    "application/vnd.databricks.v1+cell": {
     "cellMetadata": {},
     "inputWidgets": {},
     "nuid": "ad9dc7e9-2b88-4d6a-a366-e50f4b1e5147",
     "showTitle": false,
     "tableResultSettingsMap": {},
     "title": ""
    }
   },
   "source": [
    "**Screenshots from Spark UI**\n",
    "\n",
    "- [Stages](https://drive.google.com/file/d/1yl82Rtc8QPn6B1pdrjFKsMhNE4Ngyzew/view?usp=drive_link)\n",
    "\n",
    "- [Stages-2](https://drive.google.com/file/d/1k4W_FMdF6J73JQxFTubBsS26FOnQE3_y/view?usp=drive_link)\n",
    "\n",
    "- [Executors](https://drive.google.com/file/d/1JJs38Ns4OLOzA4CWZZohryjIsWkAbYF5/view?usp=sharing)\n",
    "\n",
    "- [Classpath Enteries](https://drive.google.com/file/d/1IrpC73nZa3sq2chMnb_ShI1eTc8vzW5N/view?usp=sharing)"
   ]
  },
  {
   "cell_type": "markdown",
   "metadata": {
    "application/vnd.databricks.v1+cell": {
     "cellMetadata": {
      "byteLimit": 2048000,
      "rowLimit": 10000
     },
     "inputWidgets": {},
     "nuid": "a0a5707d-a5ca-4e87-9e74-3b13d00337b0",
     "showTitle": false,
     "tableResultSettingsMap": {},
     "title": ""
    }
   },
   "source": [
    "**Spill: write to executor disk due to lack of memory**\n",
    "\n",
    "When we examine the “Spill” metrics in the Spark UI, specifically the “Disk Bytes Spilled” and “Memory Bytes Spilled” columns under each stage’s task summary, we see zero values across the board. Likewise, on the Executors page, the “Disk Used” and “Shuffle Spill” bytes remain at 0 B. This tells us that none of our tasks ever ran out of memory and had to write intermediate data out to disk. In other words, our partition sizes and UDF computations fit comfortably within each executor’s memory allocation. Because no spilling occurred, we don’t need to adjust executor memory settings or break up our workloads further for memory reasons.\n",
    "\n",
    "**Skew: imbalance in partition size**\n",
    "\n",
    "Data skew arises when a small number of partitions carry a disproportionately large amount of work, causing some tasks to lag far behind others. In our stages, take Stage 111, for example, we ran 79 tasks with a total input of 21.4 MiB. The UI’s blue bars are remarkably uniform, indicating that each task processed roughly the same volume and completed in similar time. There are no outliers where one task took significantly longer or read far more data. This uniformity demonstrates that our data is evenly distributed across partitions, so skew-induced hotspots are not impacting performance.\n",
    "\n",
    "\n",
    "**Shuffle: network io moving data between executors (wide transforms)**\n",
    "\n",
    "Wide transformations like repartition, groupBy, or pivoting naturally incur network traffic as data moves between executors. Our Spark UI highlights that some stages read around 4–5 MiB of shuffle data and wrote under 2 MiB back. Across all executors, the total shuffle read was about 15.8 MiB and shuffle write about 13.4 MiB. These volumes are modest relative to the cluster’s capacity, so shuffling is not a major bottleneck today. However, as our dataset grows, we should monitor those shuffle metrics, excessive shuffle can saturate the network and slow down our pipeline. Techniques like broadcast joins or minimizing unnecessary repartitions can help keep shuffle costs low.\n",
    "\n",
    "\n",
    "**Storage: inefficiency due to disk storage format (small files, location)**\n",
    "\n",
    "While our pipeline doesn’t rely on in-memory caching, the Storage tab in the UI and directory listings reveal that each micro-batch produces a handful of relatively small Delta files, often under 1 MiB each. Handling many small files can degrade performance, since the driver and executors must manage more metadata and file-open operations. To remedy this, we can compact our Bronze, Silver, and Gold Delta tables, using OPTIMIZE and ZORDER commands in Databricks, to consolidate small Parquet files into larger ones. This will improve read throughput and reduce overhead in subsequent streaming and batch reads.\n",
    "\n",
    "**Serialization: distribution of code segments across the cluster**\n",
    "\n",
    "Our pipeline leverages a Python UDF for sentiment scoring, which could introduce serialization overhead as data crosses the JVM↔Python boundary. However, the Spark UI shows negligible “Task Time (GC Time)” (only about six seconds of garbage collection over 38 minutes of total task time) and uniform task durations. The Environment tab’s Classpath Entries confirm that the Python UDF artifacts were shipped once per executor, not per row. These observations suggest serialization costs are already minimal. If we want to squeeze out even more efficiency, we could switch to a vectorized Pandas UDF (result_type=\"pandas\"), which would process entire micro-batches in one shot and further reduce Python invocation overhead."
   ]
  },
  {
   "cell_type": "markdown",
   "metadata": {
    "application/vnd.databricks.v1+cell": {
     "cellMetadata": {},
     "inputWidgets": {},
     "nuid": "bd2e3531-d0d1-43ec-ada3-890856b59df0",
     "showTitle": false,
     "tableResultSettingsMap": {},
     "title": ""
    }
   },
   "source": [
    "# END"
   ]
  }
 ],
 "metadata": {
  "application/vnd.databricks.v1+notebook": {
   "computePreferences": null,
   "dashboards": [],
   "environmentMetadata": null,
   "inputWidgetPreferences": null,
   "language": "python",
   "notebookMetadata": {
    "mostRecentlyExecutedCommandWithImplicitDF": {
     "commandId": -1,
     "dataframes": [
      "_sqldf"
     ]
    },
    "pythonIndentUnit": 4,
    "widgetLayout": [
     {
      "breakBefore": false,
      "name": "clear_previous_run",
      "width": 203
     },
     {
      "breakBefore": false,
      "name": "stop_streams",
      "width": 203
     }
    ]
   },
   "notebookName": "Streaming Tweet Sentiment - Spring 2025 Final Project",
   "widgets": {
    "clear_previous_run": {
     "currentValue": "No",
     "nuid": "11b43403-c70f-41ef-ab0e-41172583baaa",
     "typedWidgetInfo": {
      "autoCreated": false,
      "defaultValue": "No",
      "label": null,
      "name": "clear_previous_run",
      "options": {
       "widgetDisplayType": "Dropdown",
       "choices": [
        "No",
        "Yes"
       ],
       "fixedDomain": true,
       "multiselect": false
      },
      "parameterDataType": "String"
     },
     "widgetInfo": {
      "widgetType": "dropdown",
      "defaultValue": "No",
      "label": null,
      "name": "clear_previous_run",
      "options": {
       "widgetType": "dropdown",
       "autoCreated": null,
       "choices": [
        "No",
        "Yes"
       ]
      }
     }
    },
    "optimize_tables": {
     "currentValue": "No",
     "nuid": "d27f2950-3146-4010-8bc6-58c47a93e7a9",
     "typedWidgetInfo": {
      "autoCreated": false,
      "defaultValue": "No",
      "label": null,
      "name": "optimize_tables",
      "options": {
       "widgetDisplayType": "Dropdown",
       "choices": [
        "No",
        "Yes"
       ],
       "fixedDomain": true,
       "multiselect": false
      },
      "parameterDataType": "String"
     },
     "widgetInfo": {
      "widgetType": "dropdown",
      "defaultValue": "No",
      "label": null,
      "name": "optimize_tables",
      "options": {
       "widgetType": "dropdown",
       "autoCreated": null,
       "choices": [
        "No",
        "Yes"
       ]
      }
     }
    },
    "stop_streams": {
     "currentValue": "No",
     "nuid": "d70a2190-266e-473c-86a7-84f7bf56b386",
     "typedWidgetInfo": {
      "autoCreated": false,
      "defaultValue": "No",
      "label": null,
      "name": "stop_streams",
      "options": {
       "widgetDisplayType": "Dropdown",
       "choices": [
        "No",
        "Yes"
       ],
       "fixedDomain": true,
       "multiselect": false
      },
      "parameterDataType": "String"
     },
     "widgetInfo": {
      "widgetType": "dropdown",
      "defaultValue": "No",
      "label": null,
      "name": "stop_streams",
      "options": {
       "widgetType": "dropdown",
       "autoCreated": null,
       "choices": [
        "No",
        "Yes"
       ]
      }
     }
    }
   }
  },
  "language_info": {
   "name": "python"
  }
 },
 "nbformat": 4,
 "nbformat_minor": 0
}
